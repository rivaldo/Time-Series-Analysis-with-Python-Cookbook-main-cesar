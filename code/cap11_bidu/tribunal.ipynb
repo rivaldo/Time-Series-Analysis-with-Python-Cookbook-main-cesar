{
 "cells": [
  {
   "cell_type": "code",
   "execution_count": 1,
   "metadata": {},
   "outputs": [],
   "source": [
    "import pandas as pd"
   ]
  },
  {
   "cell_type": "code",
   "execution_count": 4,
   "metadata": {},
   "outputs": [
    {
     "data": {
      "text/html": [
       "<div>\n",
       "<style scoped>\n",
       "    .dataframe tbody tr th:only-of-type {\n",
       "        vertical-align: middle;\n",
       "    }\n",
       "\n",
       "    .dataframe tbody tr th {\n",
       "        vertical-align: top;\n",
       "    }\n",
       "\n",
       "    .dataframe thead th {\n",
       "        text-align: right;\n",
       "    }\n",
       "</style>\n",
       "<table border=\"1\" class=\"dataframe\">\n",
       "  <thead>\n",
       "    <tr style=\"text-align: right;\">\n",
       "      <th></th>\n",
       "      <th>Cargo</th>\n",
       "      <th>Codigo</th>\n",
       "      <th>Posicao</th>\n",
       "    </tr>\n",
       "  </thead>\n",
       "  <tbody>\n",
       "    <tr>\n",
       "      <th>0</th>\n",
       "      <td>523 - TECNICO JUDICIARIO - Servidores do Quadr...</td>\n",
       "      <td>0</td>\n",
       "      <td>A I</td>\n",
       "    </tr>\n",
       "    <tr>\n",
       "      <th>1</th>\n",
       "      <td>523 - TECNICO JUDICIARIO - Servidores do Quadr...</td>\n",
       "      <td>0</td>\n",
       "      <td>A I</td>\n",
       "    </tr>\n",
       "    <tr>\n",
       "      <th>2</th>\n",
       "      <td>523 - TECNICO JUDICIARIO - Servidores do Quadr...</td>\n",
       "      <td>0</td>\n",
       "      <td>A I</td>\n",
       "    </tr>\n",
       "    <tr>\n",
       "      <th>3</th>\n",
       "      <td>523 - TECNICO JUDICIARIO - Servidores do Quadr...</td>\n",
       "      <td>0</td>\n",
       "      <td>A I</td>\n",
       "    </tr>\n",
       "    <tr>\n",
       "      <th>4</th>\n",
       "      <td>523 - TECNICO JUDICIARIO - Servidores do Quadr...</td>\n",
       "      <td>0</td>\n",
       "      <td>A I</td>\n",
       "    </tr>\n",
       "  </tbody>\n",
       "</table>\n",
       "</div>"
      ],
      "text/plain": [
       "                                               Cargo Codigo Posicao\n",
       "0  523 - TECNICO JUDICIARIO - Servidores do Quadr...      0     A I\n",
       "1  523 - TECNICO JUDICIARIO - Servidores do Quadr...      0     A I\n",
       "2  523 - TECNICO JUDICIARIO - Servidores do Quadr...      0     A I\n",
       "3  523 - TECNICO JUDICIARIO - Servidores do Quadr...      0     A I\n",
       "4  523 - TECNICO JUDICIARIO - Servidores do Quadr...      0     A I"
      ]
     },
     "execution_count": 4,
     "metadata": {},
     "output_type": "execute_result"
    }
   ],
   "source": [
    "df = pd.read_csv('tribunaldejustica.csv', delimiter=';')\n",
    "df.head()"
   ]
  },
  {
   "cell_type": "code",
   "execution_count": 8,
   "metadata": {},
   "outputs": [
    {
     "data": {
      "text/plain": [
       "11429     395\n",
       "11430     395\n",
       "11435     395\n",
       "11434     395\n",
       "11428     384\n",
       "         ... \n",
       "422903      1\n",
       "422904      1\n",
       "423001      1\n",
       "423002      1\n",
       "430631      1\n",
       "Name: Codigo, Length: 396, dtype: int64"
      ]
     },
     "execution_count": 8,
     "metadata": {},
     "output_type": "execute_result"
    }
   ],
   "source": [
    "df['Codigo'].value_counts()"
   ]
  }
 ],
 "metadata": {
  "kernelspec": {
   "display_name": "Python 3",
   "language": "python",
   "name": "python3"
  },
  "language_info": {
   "codemirror_mode": {
    "name": "ipython",
    "version": 3
   },
   "file_extension": ".py",
   "mimetype": "text/x-python",
   "name": "python",
   "nbconvert_exporter": "python",
   "pygments_lexer": "ipython3",
   "version": "3.10.9"
  },
  "orig_nbformat": 4,
  "vscode": {
   "interpreter": {
    "hash": "993488204300109512b5111f778de09622e32455d1cf861bd0a83607c31d291a"
   }
  }
 },
 "nbformat": 4,
 "nbformat_minor": 2
}
