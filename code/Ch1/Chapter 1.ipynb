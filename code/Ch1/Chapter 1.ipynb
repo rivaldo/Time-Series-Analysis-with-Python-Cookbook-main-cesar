{
 "cells": [
  {
   "cell_type": "markdown",
   "id": "3005be8a-c780-43e9-b2c5-bc2bc84d90f5",
   "metadata": {
    "tags": []
   },
   "source": [
    " # Chapter 1 - Getting Started with Time Series Analysis\n",
    " \n",
    "* Learn about Python package managers and virtual environment managers\n",
    "* Learn how to use Conda for both package and VM management \n",
    "* Learn how to use Pip (Package manager) and Venv (VM manager)\n",
    "* Learn how to clone a virtual enviornment, export your environment configuration as a `.yml` file, export your installed packages, install packages from an external file ... and more\n",
    "* See the `commands.txt` file for a list of the commands used"
   ]
  },
  {
   "cell_type": "markdown",
   "id": "0163ae31-f867-4ef9-ba09-b010ffb545f0",
   "metadata": {},
   "source": [
    "# Development environment setup"
   ]
  },
  {
   "cell_type": "markdown",
   "id": "99617d7b-b7f2-4683-91e6-516f1d810401",
   "metadata": {},
   "source": [
    "## Using Conda\n",
    "### useful **conda** commands\n",
    "```sh\n",
    "conda info \n",
    "conda upadte conda\n",
    "conda update anaconda\n",
    "conda info --envs\n",
    "```"
   ]
  },
  {
   "cell_type": "code",
   "execution_count": 1,
   "id": "8cbb61d8-2cb9-4355-ad53-4181f41520b9",
   "metadata": {},
   "outputs": [
    {
     "name": "stdout",
     "output_type": "stream",
     "text": [
      "\n",
      "     active environment : base\n",
      "    active env location : /opt/anaconda3\n",
      "            shell level : 1\n",
      "       user config file : /Users/tarekatwan/.condarc\n",
      " populated config files : \n",
      "          conda version : 4.13.0\n",
      "    conda-build version : 3.21.9\n",
      "         python version : 3.9.12.final.0\n",
      "       virtual packages : __osx=12.4=0\n",
      "                          __unix=0=0\n",
      "                          __archspec=1=arm64\n",
      "       base environment : /opt/anaconda3  (writable)\n",
      "      conda av data dir : /opt/anaconda3/etc/conda\n",
      "  conda av metadata url : None\n",
      "           channel URLs : https://repo.anaconda.com/pkgs/main/osx-arm64\n",
      "                          https://repo.anaconda.com/pkgs/main/noarch\n",
      "                          https://repo.anaconda.com/pkgs/r/osx-arm64\n",
      "                          https://repo.anaconda.com/pkgs/r/noarch\n",
      "          package cache : /opt/anaconda3/pkgs\n",
      "                          /Users/tarekatwan/.conda/pkgs\n",
      "       envs directories : /opt/anaconda3/envs\n",
      "                          /Users/tarekatwan/.conda/envs\n",
      "               platform : osx-arm64\n",
      "             user-agent : conda/4.13.0 requests/2.27.1 CPython/3.9.12 Darwin/21.5.0 OSX/12.4\n",
      "                UID:GID : 501:20\n",
      "             netrc file : None\n",
      "           offline mode : False\n",
      "\n",
      "\n",
      "Note: you may need to restart the kernel to use updated packages.\n"
     ]
    }
   ],
   "source": [
    "conda info"
   ]
  },
  {
   "cell_type": "code",
   "execution_count": 2,
   "id": "1b52ed7f-0935-43bc-9333-137e0c1e1f59",
   "metadata": {},
   "outputs": [
    {
     "name": "stdout",
     "output_type": "stream",
     "text": [
      "# conda environments:\n",
      "#\n",
      "base                  *  /opt/anaconda3\n",
      "dev                      /opt/anaconda3/envs/dev\n",
      "tf                       /opt/anaconda3/envs/tf\n",
      "\n",
      "\n",
      "Note: you may need to restart the kernel to use updated packages.\n"
     ]
    }
   ],
   "source": [
    "conda info --envs"
   ]
  },
  {
   "cell_type": "code",
   "execution_count": 4,
   "id": "832e6f07-06f6-4955-847f-e7b62dce8dda",
   "metadata": {},
   "outputs": [
    {
     "name": "stdout",
     "output_type": "stream",
     "text": [
      "/opt/anaconda3/bin:/opt/anaconda3/condabin:/opt/homebrew/bin:/opt/homebrew/sbin:/usr/local/bin:/usr/bin:/bin:/usr/sbin:/sbin:/Library/TeX/texbin:/Library/Apple/usr/bin\n"
     ]
    }
   ],
   "source": [
    "!echo $PATH"
   ]
  },
  {
   "cell_type": "code",
   "execution_count": 5,
   "id": "0850019a-ae97-4123-b396-2422e5127ff5",
   "metadata": {},
   "outputs": [
    {
     "name": "stdout",
     "output_type": "stream",
     "text": [
      "/opt/anaconda3/bin/python\n"
     ]
    }
   ],
   "source": [
    "!which python"
   ]
  },
  {
   "cell_type": "markdown",
   "id": "75d177cc-d4b7-4dea-b958-5783c09ab321",
   "metadata": {},
   "source": [
    "### Create a new environment`py39` using conda\n",
    "\n",
    "```sh\n",
    "conda create -n py39 python=3.9\n",
    "# or\n",
    "conda create -n py39 python=3.9 -y\n",
    "```\n"
   ]
  },
  {
   "cell_type": "markdown",
   "id": "4f51d8e8-4dbc-4fb4-85da-61c083308a9e",
   "metadata": {},
   "source": [
    "### Activate a conda VM and install a package using `conda`\n",
    "\n",
    "```sh\n",
    "conda activate py39\n",
    "conda install pandas=1.4.2\n",
    "```"
   ]
  },
  {
   "cell_type": "markdown",
   "id": "69f9a52a-be9e-4f6f-be28-76c9863c33e2",
   "metadata": {},
   "source": [
    "### Deactivate a conda VM\n",
    "\n",
    "```sh\n",
    "conda deactivate\n",
    "```"
   ]
  },
  {
   "cell_type": "markdown",
   "id": "87a44f07-aae3-4045-867a-4a9dc993343b",
   "metadata": {},
   "source": [
    "### clone an environment from another environment\n",
    "* Clone `py39` into a new environment named `py39-new`\n",
    "\n",
    "```sh\n",
    "conda env create -n py39-new --clone py39 \n",
    "```"
   ]
  },
  {
   "cell_type": "markdown",
   "id": "13dff2cb-ee29-406b-a153-0296a5103740",
   "metadata": {},
   "source": [
    "### Remove/Delete a conda environment\n",
    "\n",
    "```sh\n",
    "conda env remove -n py39\n",
    "```"
   ]
  },
  {
   "cell_type": "markdown",
   "id": "0c861bc1-c8d5-426b-909d-b4558546184f",
   "metadata": {},
   "source": [
    "### Create a new environment from a YAML file\n",
    "\n",
    "**example: environment.yml**\n",
    "```yaml\n",
    "#env.yml\n",
    "name: tscookbook\n",
    "channels:\n",
    "- conda-forge\n",
    "- defaults\n",
    "dependencies:\n",
    "- python=3.9\n",
    "- pip\n",
    "# Data Analysis\n",
    "- statsmodels\n",
    "- scipy\n",
    "- pandas\n",
    "- numpy\n",
    "- tqdm\n",
    "# Plotting\n",
    "- matplotlib\n",
    "- seaborn\n",
    "# Machine learning\n",
    "- scikit-learn\n",
    "# Jupyter Environment\n",
    "- jupyter\n",
    "```\n",
    "\n",
    "Create a new VM using `conda create` and `-f`\n",
    "\n",
    "```sh\n",
    "conda env create -f environment.yml\n",
    "```"
   ]
  },
  {
   "cell_type": "markdown",
   "id": "abe4fcd3-3184-4070-a614-afde9c5fd15e",
   "metadata": {
    "tags": []
   },
   "source": [
    "## Using Venv"
   ]
  },
  {
   "cell_type": "markdown",
   "id": "73e9be0b-7de3-4b2f-9634-71f46cf33bef",
   "metadata": {},
   "source": [
    "### create a vistual environment using `venv`\n",
    "\n",
    "```sh\n",
    "python -m venv py3\n",
    "```\n"
   ]
  },
  {
   "cell_type": "markdown",
   "id": "effeb112-d304-4fa2-b1c9-f5bb6b124201",
   "metadata": {},
   "source": [
    "### Activate a venv environment and install a package using `pip`\n",
    "\n",
    "```sh\n",
    "source py3/bin/activate\n",
    "pip install pandas==1.4.2\n",
    "```"
   ]
  },
  {
   "cell_type": "markdown",
   "id": "8ab0eea4-9986-4fcb-b481-3e63eedde4ac",
   "metadata": {},
   "source": [
    "### Deactivate a venv VM\n",
    "\n",
    "```sh\n",
    "deactivate\n",
    "```"
   ]
  },
  {
   "cell_type": "markdown",
   "id": "916dcd4e-329c-437b-9d70-b00387b30cbf",
   "metadata": {
    "tags": []
   },
   "source": [
    "# Installing Python libraries"
   ]
  },
  {
   "cell_type": "markdown",
   "id": "431beefd-e753-4b63-be37-be9686e2f901",
   "metadata": {},
   "source": [
    "# Using Conda "
   ]
  },
  {
   "cell_type": "markdown",
   "id": "6c1743c2-0368-4f5d-a34a-5b150457a462",
   "metadata": {},
   "source": [
    "### Create a new conda environment `ch1` and install packages from a `requirements.txt` file at the same time\n",
    "\n",
    "```sh\n",
    "conda create --name ch1 -f requirements.txt\n",
    "```"
   ]
  },
  {
   "cell_type": "markdown",
   "id": "31f649d0-1733-4b92-ae83-253d12349242",
   "metadata": {},
   "source": [
    "### Install new packages using `requirements.txt` to an existing conda environment `timeseries`\n",
    "\n",
    "```sh\n",
    "conda activate timeseries\n",
    "conda install -f requirements.txt\n",
    "```"
   ]
  },
  {
   "cell_type": "markdown",
   "id": "36b17e7a-8da8-4def-b9ba-535b19b69de5",
   "metadata": {},
   "source": [
    "### Create an environment and install packages (manually) at the same time\n",
    "\n",
    "```sh\n",
    "conda create -n py310 python=3.10 pandas matplotlib -y\n",
    "```"
   ]
  },
  {
   "cell_type": "markdown",
   "id": "7bdd358a-840b-4514-824e-6c1bfbe3dc70",
   "metadata": {},
   "source": [
    "### Export your conda environment\n",
    "For example, export to `environment.yml` or any name you want.\n",
    "\n",
    "```sh\n",
    "conda env export -n py310 > environment.yml\n",
    "```"
   ]
  },
  {
   "cell_type": "markdown",
   "id": "61373de6-4428-4815-a9c2-a15600647d61",
   "metadata": {},
   "source": [
    "### Bootstraping/Export installed packages to a `requirements.txt` file\n",
    "\n",
    "```sh\n",
    "conda activate ch1\n",
    "conda list -e > conda_requirements.t\n",
    "cat conda_requirements.txt\n",
    "```"
   ]
  },
  {
   "cell_type": "markdown",
   "id": "6addf7e6-4e5c-4b31-a019-4e29052399f3",
   "metadata": {},
   "source": [
    "### Bootstraping/Export explicitly installed packages to a `requirements.txt` file using `---from-history`\n",
    "\n",
    "* Example exporting the active environment\n",
    "\n",
    "```sh\n",
    "conda env export --from-history > environment.yml\n",
    "```\n",
    "\n",
    "* If the environment is not active then you can specigy the name of the environment using `-n`\n",
    "```sh\n",
    "conda env export --from-history -n py310 > environment.yml\n",
    "```"
   ]
  },
  {
   "cell_type": "markdown",
   "id": "31217640-55dc-4431-a87f-1a2b172fb6e1",
   "metadata": {},
   "source": [
    "# Using Venv and Pip"
   ]
  },
  {
   "cell_type": "markdown",
   "id": "5862e710-7f0c-4d58-8345-e3b2370368a7",
   "metadata": {},
   "source": [
    "### Create a new venv VM and install packages using a `requirements.txt` file\n",
    "\n",
    "```sh\n",
    "python -m venv Desktopn/timeseries\n",
    "source Desktopn/timeseries/bin/activate\n",
    "pip install -r requirements.txt\n",
    "```"
   ]
  },
  {
   "cell_type": "markdown",
   "id": "586e5cfe-b458-4d23-aec1-c43769282545",
   "metadata": {},
   "source": [
    "### Bootstraping/exporting installed packages to a `requirements.txt` file\n",
    "\n",
    "* Export installed Pip packages using `freeze`\n",
    "* In this example we are using the `ch1` environment \n",
    "\n",
    "```sh\n",
    "source ch1/bin/activate\n",
    "pip freeze > requirements.txt\n",
    "cat requirements.txt\n",
    "```\n"
   ]
  },
  {
   "cell_type": "markdown",
   "id": "2d2993bb-e557-4722-843b-0afcf12476a2",
   "metadata": {},
   "source": [
    "# Installing JupyterLab and JupyterLab extensions"
   ]
  },
  {
   "cell_type": "markdown",
   "id": "444603f5-1de3-4edf-a60c-fcc2207e459c",
   "metadata": {},
   "source": [
    "### Useful Commands"
   ]
  },
  {
   "cell_type": "markdown",
   "id": "b61f8641-1f65-4262-9e4a-6b0f32809f27",
   "metadata": {},
   "source": [
    "```sh\n",
    "jupyter lab --no-browser\n",
    "```"
   ]
  },
  {
   "cell_type": "markdown",
   "id": "e5670f66-4119-4957-a8f7-11121fde42e2",
   "metadata": {},
   "source": [
    "Specify a browser **Chrome** and a port `8890`\n",
    "\n",
    "```sh\n",
    "jupyter lab --browser=chrome --port 8890\n",
    "```"
   ]
  },
  {
   "cell_type": "markdown",
   "id": "2a7d8a37-a780-4cf9-a131-d16733297c61",
   "metadata": {},
   "source": [
    "### Install/Add a Jupyter Kernel to an existing VM\n",
    "\n",
    "```sh\n",
    "python -m ipykernel install --user --name timeseries --display-name \"Time Series\"\n",
    "```"
   ]
  },
  {
   "cell_type": "markdown",
   "id": "8602610d-4d58-4ec1-9a77-b51ba35a8354",
   "metadata": {},
   "source": [
    "### List installed/available kernels\n",
    "\n",
    "```sh\n",
    "jupyter kernelspec list\n",
    "```"
   ]
  },
  {
   "cell_type": "code",
   "execution_count": 7,
   "id": "34c40bd7-c87a-425d-b3e4-7b16c1ebb82f",
   "metadata": {},
   "outputs": [
    {
     "name": "stdout",
     "output_type": "stream",
     "text": [
      "[ListKernelSpecs] WARNING | Config option `kernel_spec_manager_class` not recognized by `ListKernelSpecs`.\n",
      "Available kernels:\n",
      "  ir         /Users/tarekatwan/Library/Jupyter/kernels/ir\n",
      "  python3    /opt/anaconda3/share/jupyter/kernels/python3\n"
     ]
    }
   ],
   "source": [
    "!jupyter kernelspec list"
   ]
  },
  {
   "cell_type": "code",
   "execution_count": null,
   "id": "2732b99a-76e9-4a56-99b2-c2bfa72661b8",
   "metadata": {},
   "outputs": [],
   "source": []
  }
 ],
 "metadata": {
  "kernelspec": {
   "display_name": "Python 3 (ipykernel)",
   "language": "python",
   "name": "python3"
  },
  "language_info": {
   "codemirror_mode": {
    "name": "ipython",
    "version": 3
   },
   "file_extension": ".py",
   "mimetype": "text/x-python",
   "name": "python",
   "nbconvert_exporter": "python",
   "pygments_lexer": "ipython3",
   "version": "3.9.12"
  }
 },
 "nbformat": 4,
 "nbformat_minor": 5
}
